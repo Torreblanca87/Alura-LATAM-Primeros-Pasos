{
  "nbformat": 4,
  "nbformat_minor": 0,
  "metadata": {
    "colab": {
      "provenance": [],
      "authorship_tag": "ABX9TyMcafNXUU9jSg13SzNIfpi6",
      "include_colab_link": true
    },
    "kernelspec": {
      "name": "python3",
      "display_name": "Python 3"
    },
    "language_info": {
      "name": "python"
    }
  },
  "cells": [
    {
      "cell_type": "markdown",
      "metadata": {
        "id": "view-in-github",
        "colab_type": "text"
      },
      "source": [
        "<a href=\"https://colab.research.google.com/github/Torreblanca87/Alura-LATAM-Primeros-Pasos/blob/main/Ejercicios%20Print.ipynb\" target=\"_parent\"><img src=\"https://colab.research.google.com/assets/colab-badge.svg\" alt=\"Open In Colab\"/></a>"
      ]
    },
    {
      "cell_type": "markdown",
      "source": [
        "1 - Imprime la frase \"Escuela de Datos de Alura\""
      ],
      "metadata": {
        "id": "7bdAbNQv1cmi"
      }
    },
    {
      "cell_type": "code",
      "source": [
        "print (\"Escuela de Datos de Alura\")"
      ],
      "metadata": {
        "colab": {
          "base_uri": "https://localhost:8080/"
        },
        "id": "o8h_jg-Q1kye",
        "outputId": "b40c59c9-9dff-4a05-8b12-7113f9fbfbe9"
      },
      "execution_count": 1,
      "outputs": [
        {
          "output_type": "stream",
          "name": "stdout",
          "text": [
            "Escuela de Datos de Alura\n"
          ]
        }
      ]
    },
    {
      "cell_type": "markdown",
      "source": [
        "2 - Imprime tu nombre y tu apellido siguiendo la estructura a continuación:\n",
        "\n",
        "Nombre: [tu nombre]\n",
        "\n",
        "Apellido: [tu apellido]\n"
      ],
      "metadata": {
        "id": "dpTlakbL1scu"
      }
    },
    {
      "cell_type": "code",
      "source": [
        "print (\"Nombre: Joel\")\n",
        "print (\"Apellido: Torreblanca\")"
      ],
      "metadata": {
        "colab": {
          "base_uri": "https://localhost:8080/"
        },
        "id": "ocvSEjJt1wtt",
        "outputId": "0ecdad62-384b-4d04-d92a-7b52891cb7c9"
      },
      "execution_count": 2,
      "outputs": [
        {
          "output_type": "stream",
          "name": "stdout",
          "text": [
            "Nombre: Joel\n",
            "Apellido: Torreblanca\n"
          ]
        }
      ]
    },
    {
      "cell_type": "markdown",
      "source": [
        "3 - Imprime tu primer nombre letra por letra. Por ejemplo, si mi nombre es Álvaro, la salida sería:\n",
        "\n",
        "Á\n",
        "\n",
        "L\n",
        "\n",
        "V\n",
        "\n",
        "A\n",
        "\n",
        "R\n",
        "\n",
        "O"
      ],
      "metadata": {
        "id": "cCnEwpSm2gIT"
      }
    },
    {
      "cell_type": "code",
      "source": [
        "print (\"A\")\n",
        "print (\"L\")\n",
        "print (\"V\")\n",
        "print (\"A\")\n",
        "print (\"R\")\n",
        "print (\"O\")"
      ],
      "metadata": {
        "colab": {
          "base_uri": "https://localhost:8080/"
        },
        "id": "g0FFjKcN2qDU",
        "outputId": "8eeb00a4-8d3a-4242-dd32-559ecdeac9cf"
      },
      "execution_count": 3,
      "outputs": [
        {
          "output_type": "stream",
          "name": "stdout",
          "text": [
            "A\n",
            "L\n",
            "V\n",
            "A\n",
            "R\n",
            "O\n"
          ]
        }
      ]
    },
    {
      "cell_type": "markdown",
      "source": [
        "4 - Imprime tu fecha de nacimiento en formato día mes año. Recuerda que los valores de día y año no deben estar entre comillas. Suponiendo una fecha de cumpleaños el 28 de febrero de 2003, el formato debe ser como el siguiente:\n",
        "\n",
        "28 febrero 2003"
      ],
      "metadata": {
        "id": "dYtWNhua3hoQ"
      }
    },
    {
      "cell_type": "code",
      "source": [
        "print (\"28\", \"febrero\", \"2003\")\n"
      ],
      "metadata": {
        "colab": {
          "base_uri": "https://localhost:8080/"
        },
        "id": "eHccMOEK3swL",
        "outputId": "6fe2de36-1f20-4a76-d25f-70799e42386c"
      },
      "execution_count": 4,
      "outputs": [
        {
          "output_type": "stream",
          "name": "stdout",
          "text": [
            "28 febrero 2003\n"
          ]
        }
      ]
    },
    {
      "cell_type": "markdown",
      "source": [
        "5 - Imprime, en una sola instrucción print, el año actual en el que estás realizando este curso. El valor del año debe ser un dato numérico, y la salida de print debe ser la siguiente:\n",
        "\n",
        "Año actual: [año]"
      ],
      "metadata": {
        "id": "XXUtIYu54Ea0"
      }
    },
    {
      "cell_type": "code",
      "source": [
        "print(\"Año Actual:\",2025)"
      ],
      "metadata": {
        "colab": {
          "base_uri": "https://localhost:8080/"
        },
        "id": "IyJlSrCE4PrL",
        "outputId": "d02cf1ff-5ba2-4833-c993-46d90b93d714"
      },
      "execution_count": 5,
      "outputs": [
        {
          "output_type": "stream",
          "name": "stdout",
          "text": [
            "Año Actual: 2025\n"
          ]
        }
      ]
    }
  ]
}