{
  "nbformat": 4,
  "nbformat_minor": 0,
  "metadata": {
    "colab": {
      "provenance": [],
      "authorship_tag": "ABX9TyOR3vJN4Fml/g1Dk3xx9vso",
      "include_colab_link": true
    },
    "kernelspec": {
      "name": "python3",
      "display_name": "Python 3"
    },
    "language_info": {
      "name": "python"
    }
  },
  "cells": [
    {
      "cell_type": "markdown",
      "metadata": {
        "id": "view-in-github",
        "colab_type": "text"
      },
      "source": [
        "<a href=\"https://colab.research.google.com/github/Torreblanca87/Alura-LATAM-Primeros-Pasos/blob/main/Listas.ipynb\" target=\"_parent\"><img src=\"https://colab.research.google.com/assets/colab-badge.svg\" alt=\"Open In Colab\"/></a>"
      ]
    },
    {
      "cell_type": "markdown",
      "source": [
        "1 - Crea un programa que tenga la siguiente lista con los gastos de una empresa de papel [2172.54, 3701.35, 3518.09, 3456.61, 3249.38, 2840.82, 3891.45, 3075.26, 2317.64, 3219.08]. Con estos valores, crea un programa que calcule el promedio de gastos. Sugerencia: usa las funciones integradas sum() y len()."
      ],
      "metadata": {
        "id": "CaMcrLozION7"
      }
    },
    {
      "cell_type": "code",
      "metadata": {
        "colab": {
          "base_uri": "https://localhost:8080/"
        },
        "id": "ad23e888",
        "outputId": "0dac3a45-0ef8-4853-915d-d8c5891bb3ea"
      },
      "source": [
        "gastos = [2172.54, 3701.35, 3518.09, 3456.61, 3249.38, 2840.82, 3891.45, 3075.26, 2317.64, 3219.08]\n",
        "\n",
        "promedio_gastos = sum(gastos) / len(gastos)\n",
        "\n",
        "print(f\"El promedio de gastos es: {promedio_gastos:.2f}\")"
      ],
      "execution_count": 1,
      "outputs": [
        {
          "output_type": "stream",
          "name": "stdout",
          "text": [
            "El promedio de gastos es: 3144.22\n"
          ]
        }
      ]
    },
    {
      "cell_type": "markdown",
      "source": [
        "2 - Con los mismos datos de la pregunta anterior, determina cuántas compras se realizaron por encima de 3000 reales y calcula el porcentaje con respecto al total de compras."
      ],
      "metadata": {
        "id": "0iNT5TM9Onv2"
      }
    },
    {
      "cell_type": "code",
      "source": [],
      "metadata": {
        "id": "qkqcGK1COqG6"
      },
      "execution_count": null,
      "outputs": []
    },
    {
      "cell_type": "code",
      "metadata": {
        "colab": {
          "base_uri": "https://localhost:8080/"
        },
        "id": "1d3f8fea",
        "outputId": "408ff330-83b6-4ca1-d8de-e7570687a126"
      },
      "source": [
        "compras_mayores_a_3000 = [gasto for gasto in gastos if gasto > 3000]\n",
        "\n",
        "cantidad_compras_mayores_a_3000 = len(compras_mayores_a_3000)\n",
        "porcentaje_compras_mayores_a_3000 = (cantidad_compras_mayores_a_3000 / len(gastos)) * 100\n",
        "\n",
        "print(f\"Cantidad de compras mayores a 3000: {cantidad_compras_mayores_a_3000}\")\n",
        "print(f\"Porcentaje de compras mayores a 3000: {porcentaje_compras_mayores_a_3000:.2f}%\")"
      ],
      "execution_count": 3,
      "outputs": [
        {
          "output_type": "stream",
          "name": "stdout",
          "text": [
            "Cantidad de compras mayores a 3000: 7\n",
            "Porcentaje de compras mayores a 3000: 70.00%\n"
          ]
        }
      ]
    },
    {
      "cell_type": "markdown",
      "source": [
        "3 - Crea un código que recoja en una lista 5 números enteros aleatorios e imprima la lista. Ejemplo: [1, 4, 7, 2, 4]."
      ],
      "metadata": {
        "id": "QH9Q6ueIP4NR"
      }
    },
    {
      "cell_type": "code",
      "metadata": {
        "colab": {
          "base_uri": "https://localhost:8080/"
        },
        "id": "f3eaf0db",
        "outputId": "5cca6180-7908-42d2-b124-5ef285fdf273"
      },
      "source": [
        "import random\n",
        "\n",
        "numeros_aleatorios = [random.randint(1, 100) for _ in range(5)]\n",
        "\n",
        "print(numeros_aleatorios)"
      ],
      "execution_count": 4,
      "outputs": [
        {
          "output_type": "stream",
          "name": "stdout",
          "text": [
            "[46, 57, 9, 56, 97]\n"
          ]
        }
      ]
    },
    {
      "cell_type": "markdown",
      "source": [
        "4 - Recoge nuevamente 5 números enteros e imprime la lista en orden inverso al enviado."
      ],
      "metadata": {
        "id": "bgNMUpuhQ31m"
      }
    },
    {
      "cell_type": "code",
      "source": [
        "import random\n",
        "\n",
        "numeros_aleatorios = [random.randint(1, 100) for _ in range(5)]\n",
        "\n",
        "numeros_aleatorios.reverse()\n",
        "\n",
        "print(numeros_aleatorios)"
      ],
      "metadata": {
        "colab": {
          "base_uri": "https://localhost:8080/"
        },
        "id": "9a331OJhQ58g",
        "outputId": "96ea1c56-ac96-424a-ba51-c07aa1e6666b"
      },
      "execution_count": 5,
      "outputs": [
        {
          "output_type": "stream",
          "name": "stdout",
          "text": [
            "[51, 79, 89, 48, 51]\n"
          ]
        }
      ]
    },
    {
      "cell_type": "markdown",
      "source": [
        "5 - Crea un programa que, al ingresar un número cualquiera, genere una lista que contenga todos los números primos entre 1 y el número ingresado."
      ],
      "metadata": {
        "id": "64BJmimYRodj"
      }
    },
    {
      "cell_type": "code",
      "source": [
        "def es_primo(numero):\n",
        "    \"\"\"Verifica si un número es primo.\"\"\"\n",
        "    if numero < 2:\n",
        "        return False\n",
        "    for i in range(2, int(numero**0.5) + 1):\n",
        "        if numero % i == 0:\n",
        "            return False\n",
        "    return True\n",
        "\n",
        "def generar_primos_hasta(limite):\n",
        "    \"\"\"Genera una lista de números primos hasta un límite dado.\"\"\"\n",
        "    primos = []\n",
        "    for numero in range(2, limite + 1):\n",
        "        if es_primo(numero):\n",
        "            primos.append(numero)\n",
        "    return primos\n",
        "\n",
        "# Ejemplo de uso:\n",
        "numero_ingresado = int(input(\"Ingresa un número para generar primos hasta él: \"))\n",
        "lista_primos = generar_primos_hasta(numero_ingresado)\n",
        "print(lista_primos)"
      ],
      "metadata": {
        "colab": {
          "base_uri": "https://localhost:8080/"
        },
        "id": "bMWNjkjwRxx9",
        "outputId": "9997cd92-ed12-4ad6-c9a9-e695919a0d40"
      },
      "execution_count": 6,
      "outputs": [
        {
          "output_type": "stream",
          "name": "stdout",
          "text": [
            "Ingresa un número para generar primos hasta él: 70\n",
            "[2, 3, 5, 7, 11, 13, 17, 19, 23, 29, 31, 37, 41, 43, 47, 53, 59, 61, 67]\n"
          ]
        }
      ]
    },
    {
      "cell_type": "markdown",
      "source": [
        "6 - Escribe un programa que pida una fecha, especificando el día, mes y año, y determine si es válida para su análisis."
      ],
      "metadata": {
        "id": "-nyvxeBZ3gvy"
      }
    },
    {
      "cell_type": "code",
      "source": [
        "from datetime import datetime\n",
        "\n",
        "def validar_fecha(fecha_str):\n",
        "    \"\"\"Valida si una cadena de texto representa una fecha válida en formato DD/MM/AAAA.\"\"\"\n",
        "    try:\n",
        "        datetime.strptime(fecha_str, '%d/%m/%Y')\n",
        "        return True\n",
        "    except ValueError:\n",
        "        return False\n",
        "\n",
        "# Ejemplo de uso:\n",
        "fecha_ingresada = input(\"Ingresa una fecha en formato DD/MM/AAAA: \")\n",
        "\n",
        "if validar_fecha(fecha_ingresada):\n",
        "    print(\"La fecha ingresada es válida.\")\n",
        "else:\n",
        "    print(\"La fecha ingresada no es válida.\")"
      ],
      "metadata": {
        "colab": {
          "base_uri": "https://localhost:8080/"
        },
        "id": "i7dJjoHQ3jZw",
        "outputId": "ecc10a2a-97a3-4515-ae9b-95537838ad4c"
      },
      "execution_count": 1,
      "outputs": [
        {
          "output_type": "stream",
          "name": "stdout",
          "text": [
            "Ingresa una fecha en formato DD/MM/AAAA: 03/01/1987\n",
            "La fecha ingresada es válida.\n"
          ]
        }
      ]
    },
    {
      "cell_type": "markdown",
      "source": [
        "***Momento para los proyectos***"
      ],
      "metadata": {
        "id": "WPYYoaJHKOGp"
      }
    },
    {
      "cell_type": "markdown",
      "source": [
        "7 - Para un estudio sobre la multiplicación de bacterias en una colonia, se recopiló el número de bacterias multiplicadas por día y se puede observar a continuación: [1.2, 2.1, 3.3, 5.0, 7.8, 11.3, 16.6, 25.1, 37.8, 56.9]. Con estos valores, crea un código que genere una lista que contenga el porcentaje de crecimiento de bacterias por día, comparando el número de bacterias en cada día con el número de bacterias del día anterior. Sugerencia: para calcular el porcentaje de crecimiento, utiliza la siguiente ecuación: 100 * (muestra_actual - muestra_anterior) / muestra_anterior."
      ],
      "metadata": {
        "id": "haa9nUQYKTt1"
      }
    },
    {
      "cell_type": "code",
      "source": [
        "bacterias = [1.2, 2.1, 3.3, 5.0, 7.8, 11.3, 16.6, 25.1, 37.8, 56.9]\n",
        "porcentaje_crecimiento = []\n",
        "\n",
        "for i in range(1, len(bacterias)):\n",
        "    crecimiento = 100 * (bacterias[i] - bacterias[i-1]) / bacterias[i-1]\n",
        "    porcentaje_crecimiento.append(crecimiento)\n",
        "\n",
        "print(f\"Porcentaje de crecimiento diario de bacterias: {porcentaje_crecimiento}\")"
      ],
      "metadata": {
        "colab": {
          "base_uri": "https://localhost:8080/"
        },
        "id": "Wrfd9quJKdyK",
        "outputId": "38a7ff7b-760b-4be7-8ced-7e67bb60e909"
      },
      "execution_count": 4,
      "outputs": [
        {
          "output_type": "stream",
          "name": "stdout",
          "text": [
            "Porcentaje de crecimiento diario de bacterias: [75.00000000000001, 57.142857142857125, 51.51515151515153, 56.0, 44.87179487179489, 46.90265486725664, 51.20481927710843, 50.59760956175297, 50.52910052910054]\n"
          ]
        }
      ]
    },
    {
      "cell_type": "markdown",
      "source": [
        "8 - Para una selección de productos alimenticios, debemos separar el conjunto de IDs proporcionados por números enteros, sabiendo que los productos con ID par son dulces y los que tienen ID impar son amargos. Crea un código que recoja 10 IDs. Luego, calcula y muestra la cantidad de productos dulces y amargos."
      ],
      "metadata": {
        "id": "Be0YvvtGLLIV"
      }
    },
    {
      "cell_type": "code",
      "source": [
        "ids_productos = []\n",
        "cantidad_dulces = 0\n",
        "cantidad_amargos = 0\n",
        "\n",
        "print(\"Ingresa 10 IDs de productos (números enteros):\")\n",
        "for _ in range(10):\n",
        "    while True:\n",
        "        try:\n",
        "            id_producto = int(input(f\"Ingresa ID {_ + 1}: \"))\n",
        "            ids_productos.append(id_producto)\n",
        "            break\n",
        "        except ValueError:\n",
        "            print(\"Entrada inválida. Por favor, ingresa un número entero.\")\n",
        "\n",
        "for id_producto in ids_productos:\n",
        "    if id_producto % 2 == 0:\n",
        "        cantidad_dulces += 1\n",
        "    else:\n",
        "        cantidad_amargos += 1\n",
        "\n",
        "print(f\"\\nCantidad de productos dulces: {cantidad_dulces}\")\n",
        "print(f\"Cantidad de productos amargos: {cantidad_amargos}\")"
      ],
      "metadata": {
        "colab": {
          "base_uri": "https://localhost:8080/"
        },
        "id": "sNGCG5gVLU7x",
        "outputId": "46ab4623-9d81-452f-ffc0-169b1c37241f"
      },
      "execution_count": 5,
      "outputs": [
        {
          "output_type": "stream",
          "name": "stdout",
          "text": [
            "Ingresa 10 IDs de productos (números enteros):\n",
            "Ingresa ID 1: 2\n",
            "Ingresa ID 2: 4\n",
            "Ingresa ID 3: 6\n",
            "Ingresa ID 4: 8\n",
            "Ingresa ID 5: 1\n",
            "Ingresa ID 6: 3\n",
            "Ingresa ID 7: 5\n",
            "Ingresa ID 8: 7\n",
            "Ingresa ID 9: 9\n",
            "Ingresa ID 10: 10\n",
            "\n",
            "Cantidad de productos dulces: 5\n",
            "Cantidad de productos amargos: 5\n"
          ]
        }
      ]
    },
    {
      "cell_type": "markdown",
      "source": [
        "9 - Desarrolla un programa que informe la puntuación de un estudiante de acuerdo con sus respuestas. Debe pedir la respuesta del estudiante para cada pregunta y verificar si la respuesta coincide con el resultado. Cada pregunta vale un punto y hay opciones A, B, C o D.\n",
        "\n",
        "Resultado del examen:\n",
        "01 - D\n",
        "\n",
        "02 - A\n",
        "\n",
        "03 - C\n",
        "\n",
        "04 - B\n",
        "\n",
        "05 - A\n",
        "\n",
        "06 - D\n",
        "\n",
        "07 - C\n",
        "\n",
        "08 - C\n",
        "\n",
        "09 - A\n",
        "\n",
        "10 - B"
      ],
      "metadata": {
        "id": "jJONzOrxLlaf"
      }
    },
    {
      "cell_type": "code",
      "metadata": {
        "colab": {
          "base_uri": "https://localhost:8080/"
        },
        "id": "460d70d5",
        "outputId": "27ca5cd8-0e2e-41d2-c8e7-6be6159aa535"
      },
      "source": [
        "respuestas_correctas = {\n",
        "    1: 'D',\n",
        "    2: 'A',\n",
        "    3: 'C',\n",
        "    4: 'B',\n",
        "    5: 'A',\n",
        "    6: 'D',\n",
        "    7: 'C',\n",
        "    8: 'C',\n",
        "    9: 'A',\n",
        "    10: 'B'\n",
        "}\n",
        "\n",
        "puntuacion = 0\n",
        "\n",
        "print(\"Ingresa las respuestas del estudiante (A, B, C o D) para cada pregunta:\")\n",
        "\n",
        "for i in range(1, 11):\n",
        "    while True:\n",
        "        respuesta_estudiante = input(f\"Pregunta {i}: \").upper()\n",
        "        if respuesta_estudiante in ['A', 'B', 'C', 'D']:\n",
        "            break\n",
        "        else:\n",
        "            print(\"Respuesta inválida. Por favor, ingresa A, B, C o D.\")\n",
        "\n",
        "    if respuesta_estudiante == respuestas_correctas[i]:\n",
        "        puntuacion += 1\n",
        "\n",
        "print(f\"\\nLa puntuación del estudiante es: {puntuacion}\")"
      ],
      "execution_count": 6,
      "outputs": [
        {
          "output_type": "stream",
          "name": "stdout",
          "text": [
            "Ingresa las respuestas del estudiante (A, B, C o D) para cada pregunta:\n",
            "Pregunta 1: a\n",
            "Pregunta 2: b\n",
            "Pregunta 3: c\n",
            "Pregunta 4: d\n",
            "Pregunta 5: a\n",
            "Pregunta 6: b\n",
            "Pregunta 7: c\n",
            "Pregunta 8: d\n",
            "Pregunta 9: a\n",
            "Pregunta 10: b\n",
            "\n",
            "La puntuación del estudiante es: 5\n"
          ]
        }
      ]
    },
    {
      "cell_type": "markdown",
      "source": [
        "10 - Un instituto de meteorología desea realizar un estudio de la temperatura media de cada mes del año. Para ello, debes crear un código que recoja y almacene esas temperaturas medias en una lista. Luego, calcula el promedio anual de las temperaturas y muestra todas las temperaturas por encima del promedio anual y en qué mes ocurrieron, mostrando los meses por su nombre (Enero, Febrero, etc.)."
      ],
      "metadata": {
        "id": "2K20eJf9MiNZ"
      }
    },
    {
      "cell_type": "code",
      "source": [
        "temperaturas_medias_mensuales = []\n",
        "meses = [\n",
        "    \"Enero\", \"Febrero\", \"Marzo\", \"Abril\", \"Mayo\", \"Junio\",\n",
        "    \"Julio\", \"Agosto\", \"Septiembre\", \"Octubre\", \"Noviembre\", \"Diciembre\"\n",
        "]\n",
        "\n",
        "print(\"Ingresa la temperatura media para cada mes:\")\n",
        "for mes in meses:\n",
        "    while True:\n",
        "        try:\n",
        "            temp = float(input(f\"{mes}: \"))\n",
        "            temperaturas_medias_mensuales.append(temp)\n",
        "            break\n",
        "        except ValueError:\n",
        "            print(\"Entrada inválida. Por favor, ingresa un número.\")\n",
        "\n",
        "promedio_anual = sum(temperaturas_medias_mensuales) / len(temperaturas_medias_mensuales)\n",
        "\n",
        "print(f\"\\nTemperatura promedio anual: {promedio_anual:.2f}\")\n",
        "print(\"\\nMeses con temperatura por encima del promedio anual:\")\n",
        "\n",
        "for i in range(len(temperaturas_medias_mensuales)):\n",
        "    if temperaturas_medias_mensuales[i] > promedio_anual:\n",
        "        print(f\"- {meses[i]}: {temperaturas_medias_mensuales[i]:.2f}\")"
      ],
      "metadata": {
        "colab": {
          "base_uri": "https://localhost:8080/"
        },
        "id": "zGJR--BVMsgV",
        "outputId": "3bd2bae7-a97b-4206-e332-79a6cbdefa05"
      },
      "execution_count": 7,
      "outputs": [
        {
          "output_type": "stream",
          "name": "stdout",
          "text": [
            "Ingresa la temperatura media para cada mes:\n",
            "Enero: 25.5\n",
            "Febrero: 54.3\n",
            "Marzo: 25.8\n",
            "Abril: 26.9\n",
            "Mayo: 35+\n",
            "Entrada inválida. Por favor, ingresa un número.\n",
            "Mayo: 35\n",
            "Junio: 40\n",
            "Julio: 32\n",
            "Agosto: 26\n",
            "Septiembre: 36\n",
            "Octubre: 25\n",
            "Noviembre: 10\n",
            "Diciembre: 15\n",
            "\n",
            "Temperatura promedio anual: 29.29\n",
            "\n",
            "Meses con temperatura por encima del promedio anual:\n",
            "- Febrero: 54.30\n",
            "- Mayo: 35.00\n",
            "- Junio: 40.00\n",
            "- Julio: 32.00\n",
            "- Septiembre: 36.00\n"
          ]
        }
      ]
    },
    {
      "cell_type": "markdown",
      "source": [
        "11 - Una empresa de comercio electrónico está interesada en analizar las ventas de sus productos. Los datos de ventas se han almacenado en un diccionario:\n",
        "{'Producto A': 300, 'Producto B': 80, 'Producto C': 60, 'Producto D': 200, 'Producto E': 250, 'Producto F': 30}\n",
        "Escribe un código que calcule el total de ventas y el producto más vendido."
      ],
      "metadata": {
        "id": "wZUKoWt2NWVd"
      }
    },
    {
      "cell_type": "code",
      "source": [
        "ventas = {'Producto A': 300, 'Producto B': 80, 'Producto C': 60, 'Producto D': 200, 'Producto E': 250, 'Producto F': 30}\n",
        "\n",
        "total_ventas = sum(ventas.values())\n",
        "\n",
        "producto_mas_vendido = max(ventas, key=ventas.get)\n",
        "venta_maxima = ventas[producto_mas_vendido]\n",
        "\n",
        "print(f\"Total de ventas: {total_ventas}\")\n",
        "print(f\"Producto más vendido: {producto_mas_vendido} (con {venta_maxima} unidades vendidas)\")"
      ],
      "metadata": {
        "colab": {
          "base_uri": "https://localhost:8080/"
        },
        "id": "XlUHkvK_Nu41",
        "outputId": "852bc199-2827-40b4-edd2-7fd6e0e60caa"
      },
      "execution_count": 8,
      "outputs": [
        {
          "output_type": "stream",
          "name": "stdout",
          "text": [
            "Total de ventas: 920\n",
            "Producto más vendido: Producto A (con 300 unidades vendidas)\n"
          ]
        }
      ]
    },
    {
      "cell_type": "markdown",
      "source": [
        "12 - Se realizó una encuesta de mercado para decidir cuál diseño de marca infantil es más atractivo para los niños. Los votos de la encuesta se pueden ver a continuación:\n",
        "\n",
        "Tabla de votos de la marca\n",
        "\n",
        "Diseño 1 - 1334 votos\n",
        "\n",
        "Diseño 2 - 982 votos\n",
        "\n",
        "Diseño 3 - 1751 votos\n",
        "\n",
        "Diseño 4 - 210 votos\n",
        "\n",
        "Diseño 5 - 1811 votos\n",
        "\n",
        "Adapta los datos proporcionados a una estructura de diccionario. A partir de ello, informa el diseño ganador y el porcentaje de votos recibidos."
      ],
      "metadata": {
        "id": "TC9yFI8RN_ET"
      }
    },
    {
      "cell_type": "code",
      "metadata": {
        "colab": {
          "base_uri": "https://localhost:8080/"
        },
        "id": "9535d597",
        "outputId": "0542a8ef-d50a-4788-eca0-ce4622d53d0d"
      },
      "source": [
        "votos = {\n",
        "    \"Diseño 1\": 1334,\n",
        "    \"Diseño 2\": 982,\n",
        "    \"Diseño 3\": 1751,\n",
        "    \"Diseño 4\": 210,\n",
        "    \"Diseño 5\": 1811\n",
        "}\n",
        "\n",
        "total_votos = sum(votos.values())\n",
        "diseno_ganador = max(votos, key=votos.get)\n",
        "votos_ganador = votos[diseno_ganador]\n",
        "\n",
        "print(f\"Resultados de la encuesta:\")\n",
        "for diseno, cantidad_votos in votos.items():\n",
        "    print(f\"- {diseno}: {cantidad_votos} votos\")\n",
        "\n",
        "print(f\"\\nTotal de votos: {total_votos}\")\n",
        "print(f\"El diseño ganador es '{diseno_ganador}' con {votos_ganador} votos.\")"
      ],
      "execution_count": 9,
      "outputs": [
        {
          "output_type": "stream",
          "name": "stdout",
          "text": [
            "Resultados de la encuesta:\n",
            "- Diseño 1: 1334 votos\n",
            "- Diseño 2: 982 votos\n",
            "- Diseño 3: 1751 votos\n",
            "- Diseño 4: 210 votos\n",
            "- Diseño 5: 1811 votos\n",
            "\n",
            "Total de votos: 6088\n",
            "El diseño ganador es 'Diseño 5' con 1811 votos.\n"
          ]
        }
      ]
    },
    {
      "cell_type": "markdown",
      "source": [
        "13 - Los empleados de un departamento de tu empresa recibirán una bonificación del 10% de su salario debido a un excelente rendimiento del equipo. El departamento de finanzas ha solicitado tu ayuda para verificar las consecuencias financieras de esta bonificación en los recursos. Se te ha enviado una lista con los salarios que recibirán la bonificación: [1172, 1644, 2617, 5130, 5532, 6341, 6650, 7238, 7685, 7782, 7903]. La bonificación de cada empleado no puede ser inferior a 200. En el código, convierte cada uno de los salarios en claves de un diccionario y la bonificación de cada salario en el valor correspondiente. Luego, informa el gasto total en bonificaciones, cuántos empleados recibieron la bonificación mínima y cuál fue el valor más alto de la bonificación proporcionada."
      ],
      "metadata": {
        "id": "Z84SQjnrUAjd"
      }
    },
    {
      "cell_type": "code",
      "source": [
        "salarios = [1172, 1644, 2617, 5130, 5532, 6341, 6650, 7238, 7685, 7782, 7903]\n",
        "bonificaciones = {}\n",
        "gasto_total_bonificaciones = 0\n",
        "empleados_bonificacion_minima = 0\n",
        "bonificacion_maxima = 0\n",
        "\n",
        "for salario in salarios:\n",
        "    bonificacion_calculada = salario * 0.10\n",
        "    bonificacion_final = max(bonificacion_calculada, 200)\n",
        "\n",
        "    bonificaciones[salario] = bonificacion_final\n",
        "    gasto_total_bonificaciones += bonificacion_final\n",
        "\n",
        "    if bonificacion_final == 200:\n",
        "        empleados_bonificacion_minima += 1\n",
        "\n",
        "    if bonificacion_final > bonificacion_maxima:\n",
        "        bonificacion_maxima = bonificacion_final\n",
        "\n",
        "print(\"Bonificaciones por salario:\")\n",
        "for salario, bonificacion in bonificaciones.items():\n",
        "    print(f\"Salario: {salario}, Bonificación: {bonificacion:.2f}\")\n",
        "\n",
        "print(f\"\\nGasto total en bonificaciones: {gasto_total_bonificaciones:.2f}\")\n",
        "print(f\"Cantidad de empleados que recibieron la bonificación mínima (200): {empleados_bonificacion_minima}\")\n",
        "print(f\"Valor más alto de la bonificación proporcionada: {bonificacion_maxima:.2f}\")"
      ],
      "metadata": {
        "colab": {
          "base_uri": "https://localhost:8080/"
        },
        "id": "T2q1G2CCUNpJ",
        "outputId": "97f451d4-d198-4495-8e5c-d991820cedc2"
      },
      "execution_count": 10,
      "outputs": [
        {
          "output_type": "stream",
          "name": "stdout",
          "text": [
            "Bonificaciones por salario:\n",
            "Salario: 1172, Bonificación: 200.00\n",
            "Salario: 1644, Bonificación: 200.00\n",
            "Salario: 2617, Bonificación: 261.70\n",
            "Salario: 5130, Bonificación: 513.00\n",
            "Salario: 5532, Bonificación: 553.20\n",
            "Salario: 6341, Bonificación: 634.10\n",
            "Salario: 6650, Bonificación: 665.00\n",
            "Salario: 7238, Bonificación: 723.80\n",
            "Salario: 7685, Bonificación: 768.50\n",
            "Salario: 7782, Bonificación: 778.20\n",
            "Salario: 7903, Bonificación: 790.30\n",
            "\n",
            "Gasto total en bonificaciones: 6087.80\n",
            "Cantidad de empleados que recibieron la bonificación mínima (200): 2\n",
            "Valor más alto de la bonificación proporcionada: 790.30\n"
          ]
        }
      ]
    },
    {
      "cell_type": "markdown",
      "source": [
        "14 - Un equipo de científicos de datos está estudiando la diversidad biológica en un bosque. El equipo recopiló información sobre el número de especies de plantas y animales en cada área del bosque y almacenó estos datos en un diccionario. En él, la clave describe el área de los datos y los valores en las listas corresponden a las especies de plantas y animales en esas áreas, respectivamente.\n",
        "\n",
        "{'Área Norte': [2819, 7236], 'Área Leste': [1440, 9492], 'Área Sul': [5969, 7496], 'Área Oeste': [14446, 49688], 'Área Centro': [22558, 45148]}\n",
        "\n",
        "Escribe un código para calcular el promedio de especies por área e identificar el área con la mayor diversidad biológica. Sugerencia: utiliza las funciones incorporadas sum() y len()."
      ],
      "metadata": {
        "id": "cFfpeifMVQri"
      }
    },
    {
      "cell_type": "code",
      "source": [
        "datos_biodiversidad = {'Área Norte': [2819, 7236], 'Área Leste': [1440, 9492], 'Área Sul': [5969, 7496], 'Área Oeste': [14446, 49688], 'Área Centro': [22558, 45148]}\n",
        "\n",
        "promedio_especies_por_area = {}\n",
        "area_mayor_diversidad = \"\"\n",
        "mayor_diversidad = 0\n",
        "\n",
        "for area, especies in datos_biodiversidad.items():\n",
        "    total_especies_area = sum(especies)\n",
        "    promedio_area = total_especies_area / len(especies)\n",
        "    promedio_especies_por_area[area] = promedio_area\n",
        "\n",
        "    if total_especies_area > mayor_diversidad:\n",
        "        mayor_diversidad = total_especies_area\n",
        "        area_mayor_diversidad = area\n",
        "\n",
        "print(\"Promedio de especies por área:\")\n",
        "for area, promedio in promedio_especies_por_area.items():\n",
        "    print(f\"- {area}: {promedio:.2f}\")\n",
        "\n",
        "print(f\"\\nÁrea con la mayor diversidad biológica: {area_mayor_diversidad} (con un total de {mayor_diversidad} especies)\")"
      ],
      "metadata": {
        "colab": {
          "base_uri": "https://localhost:8080/"
        },
        "id": "0uNI6RdMViFT",
        "outputId": "7aeb9a4b-d74d-4a16-c885-a9d418ff3cb2"
      },
      "execution_count": 11,
      "outputs": [
        {
          "output_type": "stream",
          "name": "stdout",
          "text": [
            "Promedio de especies por área:\n",
            "- Área Norte: 5027.50\n",
            "- Área Leste: 5466.00\n",
            "- Área Sul: 6732.50\n",
            "- Área Oeste: 32067.00\n",
            "- Área Centro: 33853.00\n",
            "\n",
            "Área con la mayor diversidad biológica: Área Centro (con un total de 67706 especies)\n"
          ]
        }
      ]
    },
    {
      "cell_type": "markdown",
      "source": [
        "15 - El departamento de Recursos Humanos de tu empresa te pidió ayuda para analizar las edades de los colaboradores de 4 sectores de la empresa. Para ello, te proporcionaron los siguientes datos:\n",
        "\n",
        "{'Setor A': [22, 26, 30, 30, 35, 38, 40, 56, 57, 65],\n",
        " 'Setor B': [22, 24, 26, 33, 41, 49, 50, 54, 60, 64],\n",
        " 'Setor C': [23, 26, 26, 29, 34, 35, 36, 41, 52, 56],\n",
        " 'Setor D': [19, 20, 25, 27, 34, 39, 42, 44, 50, 65]}\n",
        "\n",
        " Dado que cada sector tiene 10 colaboradores, construye un código que calcule la media de edad de cada sector, la edad media general entre todos los sectores y cuántas personas están por encima de la edad media general."
      ],
      "metadata": {
        "id": "mvDfsPsBVygl"
      }
    },
    {
      "cell_type": "code",
      "source": [
        "edades_sectores = {\n",
        "    'Setor A': [22, 26, 30, 30, 35, 38, 40, 56, 57, 65],\n",
        "    'Setor B': [22, 24, 26, 33, 41, 49, 50, 54, 60, 64],\n",
        "    'Setor C': [23, 26, 26, 29, 34, 35, 36, 41, 52, 56],\n",
        "    'Setor D': [19, 20, 25, 27, 34, 39, 42, 44, 50, 65]\n",
        "}\n",
        "\n",
        "promedio_edad_por_sector = {}\n",
        "total_edades = 0\n",
        "total_empleados = 0\n",
        "\n",
        "for sector, edades in edades_sectores.items():\n",
        "    suma_edades_sector = sum(edades)\n",
        "    promedio_sector = suma_edades_sector / len(edades)\n",
        "    promedio_edad_por_sector[sector] = promedio_sector\n",
        "    total_edades += suma_edades_sector\n",
        "    total_empleados += len(edades)\n",
        "\n",
        "promedio_edad_general = total_edades / total_empleados\n",
        "\n",
        "empleados_mayor_promedio_general = 0\n",
        "for edades in edades_sectores.values():\n",
        "    for edad in edades:\n",
        "        if edad > promedio_edad_general:\n",
        "            empleados_mayor_promedio_general += 1\n",
        "\n",
        "print(\"Promedio de edad por sector:\")\n",
        "for sector, promedio in promedio_edad_por_sector.items():\n",
        "    print(f\"- {sector}: {promedio:.2f}\")\n",
        "\n",
        "print(f\"\\nEdad promedio general entre todos los sectores: {promedio_edad_general:.2f}\")\n",
        "print(f\"Cantidad de personas por encima de la edad media general: {empleados_mayor_promedio_general}\")"
      ],
      "metadata": {
        "colab": {
          "base_uri": "https://localhost:8080/"
        },
        "id": "LbsF4k1JV-l2",
        "outputId": "112c5e87-fb18-4670-dc6c-7c241b8c5d2d"
      },
      "execution_count": 12,
      "outputs": [
        {
          "output_type": "stream",
          "name": "stdout",
          "text": [
            "Promedio de edad por sector:\n",
            "- Setor A: 39.90\n",
            "- Setor B: 42.30\n",
            "- Setor C: 35.80\n",
            "- Setor D: 36.50\n",
            "\n",
            "Edad promedio general entre todos los sectores: 38.62\n",
            "Cantidad de personas por encima de la edad media general: 18\n"
          ]
        }
      ]
    }
  ]
}